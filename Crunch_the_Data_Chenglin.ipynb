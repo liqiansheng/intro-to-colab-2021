{
  "nbformat": 4,
  "nbformat_minor": 0,
  "metadata": {
    "colab": {
      "name": "Crunch the Data --- Chenglin",
      "provenance": [],
      "collapsed_sections": [
        "VtujEF_N2LHi"
      ],
      "include_colab_link": true
    },
    "kernelspec": {
      "name": "python3",
      "display_name": "Python 3"
    }
  },
  "cells": [
    {
      "cell_type": "markdown",
      "metadata": {
        "id": "view-in-github",
        "colab_type": "text"
      },
      "source": [
        "<a href=\"https://colab.research.google.com/github/liqiansheng/intro-to-colab-2021/blob/main/Crunch_the_Data_Chenglin.ipynb\" target=\"_parent\"><img src=\"https://colab.research.google.com/assets/colab-badge.svg\" alt=\"Open In Colab\"/></a>"
      ]
    },
    {
      "cell_type": "markdown",
      "metadata": {
        "id": "Ay0cqN_Loiww"
      },
      "source": [
        "# Instructions\n",
        "\n",
        "\n",
        "Make a copy of this notebook so you can edit and save your own version of it. Do the work in your copy of the notebook. Sometime before submitting, remember to edit the sharing settings, and share your notebook either publicly or with prof.mj.rossetti@gmail.com. Notebooks not shared properly may be subject to late deductions if the professor is unable to access them at the time of grading.\n",
        "\n",
        "Each of the challenges below contains a provided data structure in a setup cell, as well as some questions relating to the provided data structure. For each challenge, run its setup cell to define the provided variable, then write additional code cells below which reference that variable to answer the provided questions.\n",
        "\n",
        "Challenge Requirements:\n",
        "\n",
        " + Challenges 1 and 2 are required. \n",
        " + Then choose one from Challenge 3 or 4 (only the best grade of these two will be applied). \n",
        " + Then choose one from Challenges 5 or 6 (only the best grade of these two will be applied). \n",
        "\n",
        "# Collaboration\n",
        "\n",
        "It is OK to discuss this exercise generally with other students, to work together, and even to share some small code snippets! \n",
        "\n",
        "> NOTE: if you receive any help from another student, you are expected to provide appropriate attribution in a corresponding text cell or code comment, like \"Student X helped me with this part\", or \"Student Y and I worked on this part together\".\n",
        "\n",
        "# Evaluation\n",
        "\n",
        "Exercise submissions will be evaluated according to the rubric below:\n",
        "\n",
        "Challenge | Weight\n",
        "-- | --\n",
        "Challenge 1 | 25% \n",
        "Challenge 2 | 25% \n",
        "Best of: Challenge 3 or 4 | 25% \n",
        "Best of: Challenge 5 or 6 | 25% \n",
        "\n",
        "\n",
        "> NOTE: any student who successfully completes ALL of the challenges will receive 15% bonus extra credit, applied to this exercise grade.\n",
        "\n",
        "This rubric is tentative, and may be subject to slight adjustments during the grading process.\n",
        "\n",
        "\n",
        "\n",
        "\n",
        "\n",
        "\n"
      ]
    },
    {
      "cell_type": "markdown",
      "metadata": {
        "id": "-KpOcL7dRi0y"
      },
      "source": [
        "# Challenges\n"
      ]
    },
    {
      "cell_type": "markdown",
      "metadata": {
        "id": "jkFPIYgmG6ag"
      },
      "source": [
        "## Challenge 1 (Gradebook)\n"
      ]
    },
    {
      "cell_type": "markdown",
      "metadata": {
        "id": "S-JKOpkHSpfB"
      },
      "source": [
        "\n",
        "Given the Python variable called `gradebook` provided below, write Python code which references that variable to perform each of the following tasks...\n",
        "\n",
        "A) Print the date this data was downloaded (i.e. `\"2018-06-05\"`).\n",
        "\n",
        "B) Print the number of students in the gradebook (i.e. `10`).\n",
        "\n",
        "C) Loop through each student and print their grade, each on a new line.\n",
        "\n",
        "D) Print the average grade (i.e. `83.64`). \n",
        "\n",
        "E) Print the median grade (i.e. `87.6`). HINT: it might be helpful to leverage [the `statistics` module](https://github.com/prof-rossetti/intro-to-python/blob/master/notes/python/modules/statistics.md) or some other third-party package\n",
        "\n"
      ]
    },
    {
      "cell_type": "code",
      "metadata": {
        "id": "7mLcsfnESwG1"
      },
      "source": [
        "# leave this cell as-is\n",
        "gradebook = {\n",
        "  \"downloadDate\": \"2018-06-05\",\n",
        "  \"professorId\": 123,\n",
        "  \"students\":[\n",
        "    {\"studentId\": 1, \"finalGrade\": 76.7},\n",
        "    {\"studentId\": 2, \"finalGrade\": 85.1},\n",
        "    {\"studentId\": 3, \"finalGrade\": 50.3},\n",
        "    {\"studentId\": 4, \"finalGrade\": 89.8},\n",
        "    {\"studentId\": 5, \"finalGrade\": 97.4},\n",
        "    {\"studentId\": 6, \"finalGrade\": 75.5},\n",
        "    {\"studentId\": 7, \"finalGrade\": 87.2},\n",
        "    {\"studentId\": 8, \"finalGrade\": 88.0},\n",
        "    {\"studentId\": 9, \"finalGrade\": 93.9},\n",
        "    {\"studentId\": 10, \"finalGrade\": 92.5}\n",
        "  ]\n",
        "}"
      ],
      "execution_count": null,
      "outputs": []
    },
    {
      "cell_type": "code",
      "metadata": {
        "colab": {
          "base_uri": "https://localhost:8080/"
        },
        "id": "MCaUtr-QjxDB",
        "outputId": "4b14c25a-8f0e-4bce-c783-1c4eb894c472"
      },
      "source": [
        "print(\"------------------\")\n",
        "print(\"PROCESSING GRADEBOOK DATA...\")\n",
        "print(\"------------------\")\n",
        "\n",
        "\n",
        "\n",
        "# todo: write some python here\n",
        "\n",
        "import statistics\n",
        "\n",
        "# A).\n",
        "print(gradebook[\"downloadDate\"])\n",
        "\n",
        "# B).\n",
        "print(len(gradebook[\"students\"]))\n",
        "\n",
        "# C).\n",
        "student_grade = [grade[\"finalGrade\"] for grade in gradebook[\"students\"]]\n",
        "for grade in student_grade:\n",
        "  print(grade)\n",
        "\n",
        "\n",
        "# D).\n",
        "print(\"Mean:\",statistics.mean(student_grade))\n",
        "\n",
        "# E).\n",
        "print(\"Median:\",statistics.median(student_grade))\n",
        "\n",
        "\n"
      ],
      "execution_count": null,
      "outputs": [
        {
          "output_type": "stream",
          "text": [
            "------------------\n",
            "PROCESSING GRADEBOOK DATA...\n",
            "------------------\n",
            "2018-06-05\n",
            "10\n",
            "76.7\n",
            "85.1\n",
            "50.3\n",
            "89.8\n",
            "97.4\n",
            "75.5\n",
            "87.2\n",
            "88.0\n",
            "93.9\n",
            "92.5\n",
            "Mean: 83.64\n",
            "Median: 87.6\n"
          ],
          "name": "stdout"
        }
      ]
    },
    {
      "cell_type": "markdown",
      "metadata": {
        "id": "H6vAJbNjG_US"
      },
      "source": [
        "## Challenge 2 (Rideshare)\n"
      ]
    },
    {
      "cell_type": "markdown",
      "metadata": {
        "id": "-uRFHQMYRkpb"
      },
      "source": [
        "\n",
        "\n",
        "Given the Python variable called `trip` provided below, write Python code which references that variable to perform each of the following tasks...\n",
        "\n",
        "A) Print a human-friendly message to denote the driver’s first name (i.e. `“Your driver is Danny\"`).\n",
        "\n",
        "B) Assuming stops can get added or removed at any time, print the number of stops this trip makes (i.e. `3`).\n",
        "\n",
        "C) Assuming the stops will always be listed in ascending order of their stop sequence, and there will always be at least one stop, print the destination of the FIRST stop (i.e. `Madison Square”`).\n",
        "\n",
        "D) Assuming the stops will always be listed in ascending order of their stop sequence, and there will always be at least one stop, but the number of stops may change at any time, print the destination of the LAST stop (i.e. `“Washington Square”`).\n",
        "\n",
        "E) Loop through each of the trip’s stops and print that stop’s passenger name, one at a time (i.e. `“Vishal”`, then `“Clara”`, then `“Lee”`, each on a separate line):\n",
        "\n"
      ]
    },
    {
      "cell_type": "code",
      "metadata": {
        "id": "MSyUjpWA-11o"
      },
      "source": [
        "# leave this cell as-is\n",
        "trip = {\n",
        "    \"driver\": {\n",
        "        \"first_name\": \"Danny\",\n",
        "        \"last_name\": \"Dreyfus\",\n",
        "        \"avg_rating\": 3.6,\n",
        "        \"total_rides\": 950\n",
        "    },\n",
        "    \"vehicle\": {\n",
        "        \"make\": \"Tesla\",\n",
        "        \"model\": \"Cybertruck\",\n",
        "        \"year\": 2021,\n",
        "        \"color\": \"silver\"\n",
        "    },\n",
        "    \"rideshare\": True,\n",
        "    \"pickup_location\": \"Grand Central Terminal\",\n",
        "    \"stops\": [\n",
        "        {\"sequence\": 1, \"passenger\": \"Vishal\", \"destination\": \"Madison Square\", \"fare\": 3.99},\n",
        "        {\"sequence\": 2, \"passenger\": \"Clara\", \"destination\": \"Union Square\", \"fare\": 5.99},\n",
        "        {\"sequence\": 3, \"passenger\": \"Lee\", \"destination\": \"Washington Square\", \"fare\": 7.99}\n",
        "    ]\n",
        "}\n",
        "\n"
      ],
      "execution_count": null,
      "outputs": []
    },
    {
      "cell_type": "code",
      "metadata": {
        "colab": {
          "base_uri": "https://localhost:8080/"
        },
        "id": "2H5Id5qTj9zM",
        "outputId": "f5fdb558-0a6f-4ebd-f778-c307d39cb4ef"
      },
      "source": [
        "\n",
        "print(\"------------------\")\n",
        "print(\"PROCESSING RIDESHARE DATA...\")\n",
        "print(\"------------------\")\n",
        "\n",
        "# todo: write some python here\n",
        "print(type(trip[\"driver\"]))\n",
        "print(trip.keys())\n",
        "# A).\n",
        "print(\"Your driver is\", trip[\"driver\"][\"first_name\"])\n",
        "\n",
        "# B).\n",
        "print(\"Total stops are:\",len(trip[\"stops\"]))\n",
        "\n",
        "# C).\n",
        "import operator\n",
        "from operator import itemgetter\n",
        "\n",
        "stops_sort = sorted(trip[\"stops\"], key=operator.itemgetter('destination'))\n",
        "\n",
        "print(\"First Stop is:\",stops_sort[0][\"destination\"])\n",
        "\n",
        "# D).\n",
        "print(\"Last Stop is:\",stops_sort[-1][\"destination\"])\n",
        "\n",
        "# E).\n",
        "n = 1\n",
        "for name in stops_sort:\n",
        "  print(n,\":\",name[\"passenger\"])\n",
        "  n = n + 1\n",
        "\n",
        "\n",
        "  \n",
        "\n",
        "\n",
        "\n"
      ],
      "execution_count": null,
      "outputs": [
        {
          "output_type": "stream",
          "text": [
            "------------------\n",
            "PROCESSING RIDESHARE DATA...\n",
            "------------------\n",
            "<class 'dict'>\n",
            "dict_keys(['driver', 'vehicle', 'rideshare', 'pickup_location', 'stops'])\n",
            "Your driver is Danny\n",
            "Total stops are: 3\n",
            "First Stop is: Madison Square\n",
            "Last Stop is: Washington Square\n",
            "1 : Vishal\n",
            "2 : Clara\n",
            "3 : Lee\n"
          ],
          "name": "stdout"
        }
      ]
    },
    {
      "cell_type": "markdown",
      "metadata": {
        "id": "frq5vQMsHOS1"
      },
      "source": [
        "## Challenge 3 (Social Media Posts)\n"
      ]
    },
    {
      "cell_type": "markdown",
      "metadata": {
        "id": "qHWXSX8iRkBU"
      },
      "source": [
        "\n",
        "Given the Python variable called `tweets` provided below, write Python code which references that variable to perform each of the following tasks...\n",
        "\n",
        "A) Print the screen name of the user who authored the first tweet (i.e. `“sandwhoa”`).\n",
        "\n",
        "\n",
        "B) Of all the tweets which include the phrase `“@sandwhoa”` in their full text, print the screen name of the user who authored that tweet, each on a separate line (i.e. `“person2”`, then `“person3”`).\n",
        "\n",
        "C) Of all the tweets which include the phrase `“@sandwhoa”` in their full text, determine which tweet has the greatest number of likes, and then print the screen name of the user who authored that tweet (i.e. `“person3”`). FYI: Assume the tweet order can change at any time and has no relationship with the number of likes.\n"
      ]
    },
    {
      "cell_type": "code",
      "metadata": {
        "id": "nY7zZDCm-8OD"
      },
      "source": [
        "# leave this cell as-is\n",
        "tweets = [\n",
        "    {\n",
        "        \"id\": 100200297,\n",
        "        \"full_text\": \"Look at this delicious sandwich!\",\n",
        "        \"img_url\": \"https://sandwhoa.com/sandwich.png\",\n",
        "        \"user\": {\"screen_name\": \"sandwhoa\", \"followers\": 5000},\n",
        "        \"likes_count\": 150\n",
        "    },\n",
        "    {\n",
        "        \"id\": 100200298,\n",
        "        \"full_text\": \"I love sandwiches\",\n",
        "        \"img_url\": None,\n",
        "        \"user\": {\"screen_name\": \"person1\", \"followers\": 100},\n",
        "        \"likes_count\": 5\n",
        "    },\n",
        "    {\n",
        "        \"id\": 100200299,\n",
        "        \"full_text\": \"@sandwhoa yumm...\",\n",
        "        \"img_url\": None,\n",
        "        \"user\": {\"screen_name\": \"person2\", \"followers\": 200},\n",
        "        \"likes_count\": 10\n",
        "    },\n",
        "    {\n",
        "        \"id\": 100200300,\n",
        "        \"full_text\": \"@sandwhoa that sandwich looks amazing!!\",\n",
        "        \"img_url\": None,\n",
        "        \"user\": {\"screen_name\": \"person3\", \"followers\": 300},\n",
        "        \"likes_count\": 35\n",
        "    },\n",
        "    {\n",
        "        \"id\": 100200301,\n",
        "        \"full_text\": \"I ate a great sandwich today\",\n",
        "        \"img_url\": None,\n",
        "        \"user\": {\"screen_name\": \"person4\", \"followers\": 400},\n",
        "        \"likes_count\": 50\n",
        "    }\n",
        "]\n"
      ],
      "execution_count": null,
      "outputs": []
    },
    {
      "cell_type": "code",
      "metadata": {
        "colab": {
          "base_uri": "https://localhost:8080/"
        },
        "id": "hsy4ZFCRj_ce",
        "outputId": "b3560c6a-c1e8-4617-fff8-8651cfc72a7e"
      },
      "source": [
        "\n",
        "print(\"------------------\")\n",
        "print(\"PROCESSING SOCIAL MEDIA DATA...\")\n",
        "print(\"------------------\")\n",
        "\n",
        "# todo: write some python here\n",
        "# A).\n",
        "print(tweets[0][\"user\"][\"screen_name\"],\"authorized the first tweet.\")\n",
        "\n",
        "# B).\n",
        "n = 0\n",
        "for person in tweets[n]:\n",
        "  if \"@sandwhoa\" in tweets[n][\"full_text\"]:\n",
        "    print(tweets[n][\"user\"][\"screen_name\"])\n",
        "  n = n + 1\n",
        "\n",
        "# C).\n",
        "import operator\n",
        "from operator import itemgetter\n",
        "\n",
        "sandwhoa_list = []\n",
        "\n",
        "n = 0\n",
        "for person in tweets[n]:\n",
        "  if \"@sandwhoa\" in tweets[n][\"full_text\"]:\n",
        "    sandwhoa_list.append(tweets[n])\n",
        "  n = n + 1\n",
        "\n",
        "likes_sort = sorted(sandwhoa_list, key=operator.itemgetter('likes_count'), reverse = True)\n",
        "print(likes_sort[0][\"user\"][\"screen_name\"],\"has the greatest number of likes.\")\n",
        "\n",
        "\n",
        "\n",
        "\n",
        "\n",
        "\n",
        "\n",
        "\n"
      ],
      "execution_count": null,
      "outputs": [
        {
          "output_type": "stream",
          "text": [
            "------------------\n",
            "PROCESSING SOCIAL MEDIA DATA...\n",
            "------------------\n",
            "sandwhoa authorized the first tweet.\n",
            "person2\n",
            "person3\n",
            "person3 has the greatest number of likes.\n"
          ],
          "name": "stdout"
        }
      ]
    },
    {
      "cell_type": "markdown",
      "metadata": {
        "id": "HB0pW8ZCHIA_"
      },
      "source": [
        "## Challenge 4 (Stock Prices)\n"
      ]
    },
    {
      "cell_type": "markdown",
      "metadata": {
        "id": "NzcqJVRLFeDo"
      },
      "source": [
        "\n",
        "Given the Python variable called `stock_data` provided below, write Python code which references that variable to perform each of the following tasks...\n",
        "\n",
        "A) Print the **selected stock symbol** (e.g. `\"MSFT\"`). \n",
        "\n",
        "B) Assuming new days will be added to the time series in the future, and that the latest day will always be listed first, print the **latest available day** (e.g. `\"2030-03-16\"`). HINT: you may want to access the time series dictionary's `.items()` method to convert key-value pairs into a list for easier processing. HINT: you may want to convert the data into a new, cleaner list of daily dictionaries, for easier processing.\n",
        "\n",
        "C) Assuming new days will be added to the time series in the future, and that the latest day will always be listed first, print the stock's **latest closing price**, ideally formatted as USD with dollar sign and two decimal places (e.g. `\"$237.71\"`) HINT: it's OK to use our familiar `to_usd()` function, provided in the setup cell below.\n",
        "\n",
        "D) Assemble and print a new **list of closing prices**, with the prices listed in ASCENDING order of their date, and formatted as decimal numbers (e.g. `[232.42, 237.13, 235.75, 234.81, 237.71]` ). HINT: try using the built-in `float()` function to convert strings to decimals. \n"
      ]
    },
    {
      "cell_type": "code",
      "metadata": {
        "id": "h0e6PrQ0FdMM"
      },
      "source": [
        "# leave this cell as-is\n",
        "stock_data = {\n",
        "    \"Meta Data\": {\n",
        "        \"1. Information\": \"Daily Prices (open, high, low, close) and Volumes\",\n",
        "        \"2. Symbol\": \"MSFT\",\n",
        "        \"3. Output Size\": \"Compact\",\n",
        "        \"4. Time Zone\": \"US/Eastern\"\n",
        "    },\n",
        "    \"Time Series (Daily)\": {\n",
        "        \"2030-03-16\": {\n",
        "            \"1. open\": \"236.2800\",\n",
        "            \"2. high\": \"240.0550\",\n",
        "            \"3. low\": \"235.9400\",\n",
        "            \"4. close\": \"237.7100\",\n",
        "            \"5. volume\": \"28092196\"\n",
        "        },\n",
        "        \"2030-03-15\": {\n",
        "            \"1. open\": \"234.9600\",\n",
        "            \"2. high\": \"235.1850\",\n",
        "            \"3. low\": \"231.8100\",\n",
        "            \"4. close\": \"234.8100\",\n",
        "            \"5. volume\": \"26042669\"\n",
        "        },\n",
        "        \"2030-03-12\": {\n",
        "            \"1. open\": \"234.0100\",\n",
        "            \"2. high\": \"235.8200\",\n",
        "            \"3. low\": \"233.2300\",\n",
        "            \"4. close\": \"235.7500\",\n",
        "            \"5. volume\": \"22653662\"\n",
        "        },\n",
        "        \"2030-03-11\": {\n",
        "            \"1. open\": \"234.9600\",\n",
        "            \"2. high\": \"239.1700\",\n",
        "            \"3. low\": \"234.3100\",\n",
        "            \"4. close\": \"237.1300\",\n",
        "            \"5. volume\": \"29907586\"\n",
        "        },\n",
        "        \"2030-03-10\": {\n",
        "            \"1. open\": \"237.0000\",\n",
        "            \"2. high\": \"237.0000\",\n",
        "            \"3. low\": \"232.0400\",\n",
        "            \"4. close\": \"232.4200\",\n",
        "            \"5. volume\": \"29746812\"\n",
        "        }\n",
        "    }\n",
        "}\n",
        "\n",
        "\n",
        "def to_usd(my_price):\n",
        "    \"\"\"\n",
        "    Converts a numeric value to usd-formatted string, for printing and display purposes.\n",
        "    \n",
        "    Param: my_price (int or float) like 4000.444444\n",
        "    \n",
        "    Example: to_usd(4000.444444)\n",
        "    \n",
        "    Returns: $4,000.44\n",
        "    \"\"\"\n",
        "    return f\"${my_price:,.2f}\" \n",
        "\n"
      ],
      "execution_count": null,
      "outputs": []
    },
    {
      "cell_type": "code",
      "metadata": {
        "colab": {
          "base_uri": "https://localhost:8080/"
        },
        "id": "5263dWmoG0bv",
        "outputId": "26665138-dd42-49c2-ba50-ea0fe65d0974"
      },
      "source": [
        "print(\"------------------\")\n",
        "print(\"PROCESSING STOCK DATA...\")\n",
        "print(\"------------------\")\n",
        "\n",
        "# todo: write some python here\n",
        "\n",
        "\n"
      ],
      "execution_count": null,
      "outputs": [
        {
          "output_type": "stream",
          "text": [
            "------------------\n",
            "PROCESSING STOCK DATA...\n",
            "------------------\n"
          ],
          "name": "stdout"
        }
      ]
    },
    {
      "cell_type": "markdown",
      "metadata": {
        "id": "VtujEF_N2LHi"
      },
      "source": [
        "## Challenge 5 (SEC Filings)\n"
      ]
    },
    {
      "cell_type": "markdown",
      "metadata": {
        "id": "_Zgc7iWV2cne"
      },
      "source": [
        "Given the Python variable called `filings_index` provided below, write Python code which references that variable to perform the following task...\n",
        "\n",
        "A) Print the file name of the \"10-K\" form filed by \"AMAZON COM INC\" (e.g. `\"edgar/data/1018724/0001018724-19-000004.txt\"`).\n",
        "\n",
        "> HINT: convert this data into a more usable data structure, perhaps using the string's [`split()` method](https://docs.python.org/3/library/stdtypes.html#str.split) to convert a string to a list.\n",
        "\n",
        "> HINT: new line characters are represented by `\"/n\"`.\n"
      ]
    },
    {
      "cell_type": "code",
      "metadata": {
        "id": "8NhSNDAl2LZa"
      },
      "source": [
        "# leave this cell as-is\n",
        "\n",
        "filings_index = \"\"\"\n",
        "Description:           Master Index of EDGAR Dissemination Feed\n",
        "Last Data Received:    March 31, 2019\n",
        "Comments:              webmaster@sec.gov\n",
        "Anonymous FTP:         ftp://ftp.sec.gov/edgar/\n",
        "Cloud HTTP:            https://www.sec.gov/Archives/\n",
        "\n",
        "CIK|Company Name|Form Type|Date Filed|Filename\n",
        "--------------------------------------------------------------------------------\n",
        "1000045|NICHOLAS FINANCIAL INC|10-Q|2019-02-14|edgar/data/1000045/0001193125-19-039489.txt\n",
        "1000045|NICHOLAS FINANCIAL INC|4|2019-01-15|edgar/data/1000045/0001357521-19-000001.txt\n",
        "1000045|NICHOLAS FINANCIAL INC|4|2019-02-19|edgar/data/1000045/0001357521-19-000002.txt\n",
        "1000045|NICHOLAS FINANCIAL INC|4|2019-03-15|edgar/data/1000045/0001357521-19-000003.txt\n",
        "1000045|NICHOLAS FINANCIAL INC|8-K|2019-02-01|edgar/data/1000045/0001193125-19-024617.txt\n",
        "1000148|LEGACY CAPITAL FUND, INC.|X-17A-5|2019-02-21|edgar/data/1000148/9999999997-19-000997.txt\n",
        "1000177|NORDIC AMERICAN TANKERS Ltd|424B3|2019-03-29|edgar/data/1000177/0000919574-19-002650.txt\n",
        "1000177|NORDIC AMERICAN TANKERS Ltd|6-K|2019-02-12|edgar/data/1000177/0000919574-19-000990.txt\n",
        "1018724|AMAZON COM INC|10-K|2019-02-01|edgar/data/1018724/0001018724-19-000004.txt\n",
        "1018724|AMAZON COM INC|8-K|2019-01-31|edgar/data/1018724/0001018724-19-000002.txt\n",
        "1018724|AMAZON COM INC|8-K|2019-02-04|edgar/data/1018724/0001018724-19-000008.txt\n",
        "1018724|AMAZON COM INC|8-K|2019-02-25|edgar/data/1018724/0001193125-19-049914.txt\n",
        "101872|FIRST VARIABLE ANNUITY FUND A|24F-2NT|2019-03-25|edgar/data/101872/0000101872-19-000003.txt\n",
        "101872|FIRST VARIABLE ANNUITY FUND A|N-CEN|2019-03-11|edgar/data/101872/0001713935-19-000052.txt\n",
        "1018735|NYMOX PHARMACEUTICAL CORP|20-F|2019-03-29|edgar/data/1018735/0001640334-19-000464.txt\n",
        "1018735|NYMOX PHARMACEUTICAL CORP|4|2019-01-03|edgar/data/1018735/0001682873-19-000001.txt\n",
        "1018735|NYMOX PHARMACEUTICAL CORP|4|2019-01-03|edgar/data/1018735/0001682873-19-000002.txt\n",
        "1018825|IBM Retirement Fund|13F-HR|2019-02-14|edgar/data/1018825/0001018825-19-000001.txt\n",
        "1018840|ABERCROMBIE & FITCH CO /DE/|3|2019-02-06|edgar/data/1018840/0001225208-19-001840.txt\n",
        "1018840|ABERCROMBIE & FITCH CO /DE/|3|2019-02-06|edgar/data/1018840/0001225208-19-001841.txt\n",
        "1018840|ABERCROMBIE & FITCH CO /DE/|4|2019-02-06|edgar/data/1018840/0001225208-19-001842.txt\"\"\""
      ],
      "execution_count": null,
      "outputs": []
    },
    {
      "cell_type": "code",
      "metadata": {
        "id": "xzrW2M6W21Sa",
        "colab": {
          "base_uri": "https://localhost:8080/"
        },
        "outputId": "b8eaab6c-d8e8-4c47-b595-4722cd90a3f3"
      },
      "source": [
        "print(\"------------------\")\n",
        "print(\"PROCESSING SEC FILINGS...\")\n",
        "print(\"------------------\")\n",
        "\n",
        "\n",
        "# todo: write some python here\n",
        "\n",
        "\n",
        "\n"
      ],
      "execution_count": null,
      "outputs": [
        {
          "output_type": "stream",
          "text": [
            "------------------\n",
            "PROCESSING SEC FILINGS...\n",
            "------------------\n"
          ],
          "name": "stdout"
        }
      ]
    },
    {
      "cell_type": "markdown",
      "metadata": {
        "id": "IPkloYZT47ap"
      },
      "source": [
        "## Challenge 6 (Weather Forecast)\n",
        "\n"
      ]
    },
    {
      "cell_type": "markdown",
      "metadata": {
        "id": "g49sx66W6PGu"
      },
      "source": [
        "\n",
        "Given the Python variable called `weather_data` provided below, write Python code which references that variable to perform the following task...\n",
        "\n",
        "A) For each day in the provided data (excluding night-time forecasts), print a human-readable weather forecast on that date. "
      ]
    },
    {
      "cell_type": "code",
      "metadata": {
        "id": "29TZ3ctX45tp"
      },
      "source": [
        "weather_data = {\n",
        "    \"@context\": [\n",
        "        \"https://geojson.org/geojson-ld/geojson-context.jsonld\",\n",
        "        {\n",
        "            \"@version\": \"1.1\",\n",
        "            \"wx\": \"https://api.weather.gov/ontology#\",\n",
        "            \"geo\": \"http://www.opengis.net/ont/geosparql#\",\n",
        "            \"unit\": \"http://codes.wmo.int/common/unit/\",\n",
        "            \"@vocab\": \"https://api.weather.gov/ontology#\"\n",
        "        }\n",
        "    ],\n",
        "    \"type\": \"Feature\",\n",
        "    \"geometry\": {\n",
        "        \"type\": \"Polygon\",\n",
        "        \"coordinates\": [\n",
        "            [\n",
        "                [-77.036996200000004, 38.900789000000003],\n",
        "                [-77.040754800000002, 38.878836500000006],\n",
        "                [-77.012551900000005,  38.875908600000002],\n",
        "                [-77.008787600000005, 38.897860800000004],\n",
        "                [-77.036996200000004, 38.900789000000003]\n",
        "            ]\n",
        "        ]\n",
        "    },\n",
        "    \"properties\": {\n",
        "        \"updated\": \"2021-06-08T17:34:46+00:00\",\n",
        "        \"units\": \"us\",\n",
        "        \"forecastGenerator\": \"BaselineForecastGenerator\",\n",
        "        \"generatedAt\": \"2021-06-08T18:32:38+00:00\",\n",
        "        \"updateTime\": \"2021-06-08T17:34:46+00:00\",\n",
        "        \"validTimes\": \"2021-06-08T11:00:00+00:00/P7DT14H\",\n",
        "        \"elevation\": {\n",
        "            \"value\": 6.0960000000000001,\n",
        "            \"unitCode\": \"unit:m\"\n",
        "        },\n",
        "        \"periods\": [\n",
        "            {\n",
        "                \"number\": 1,\n",
        "                \"name\": \"This Afternoon\",\n",
        "                \"startTime\": \"2021-06-08T14:00:00-04:00\",\n",
        "                \"endTime\": \"2021-06-08T18:00:00-04:00\",\n",
        "                \"isDaytime\": True,\n",
        "                \"temperature\": 91,\n",
        "                \"temperatureUnit\": \"F\",\n",
        "                \"temperatureTrend\": None,\n",
        "                \"windSpeed\": \"7 mph\",\n",
        "                \"windDirection\": \"W\",\n",
        "                \"icon\": \"https://api.weather.gov/icons/land/day/tsra_sct,60?size=medium\",\n",
        "                \"shortForecast\": \"Showers And Thunderstorms Likely\",\n",
        "                \"detailedForecast\": \"Showers and thunderstorms likely. Partly sunny, with a high near 91. West wind around 7 mph. Chance of precipitation is 60%. New rainfall amounts less than a tenth of an inch possible.\"\n",
        "            },\n",
        "            {\n",
        "                \"number\": 2,\n",
        "                \"name\": \"Tonight\",\n",
        "                \"startTime\": \"2021-06-08T18:00:00-04:00\",\n",
        "                \"endTime\": \"2021-06-09T06:00:00-04:00\",\n",
        "                \"isDaytime\": False,\n",
        "                \"temperature\": 73,\n",
        "                \"temperatureUnit\": \"F\",\n",
        "                \"temperatureTrend\": None,\n",
        "                \"windSpeed\": \"1 to 6 mph\",\n",
        "                \"windDirection\": \"SW\",\n",
        "                \"icon\": \"https://api.weather.gov/icons/land/night/tsra_sct,60/tsra_sct,20?size=medium\",\n",
        "                \"shortForecast\": \"Showers And Thunderstorms Likely then Chance Showers And Thunderstorms\",\n",
        "                \"detailedForecast\": \"Showers and thunderstorms likely before 8pm, then a chance of showers and thunderstorms between 8pm and 2am. Mostly cloudy, with a low around 73. Southwest wind 1 to 6 mph. Chance of precipitation is 60%. New rainfall amounts between a tenth and quarter of an inch possible.\"\n",
        "            },\n",
        "            {\n",
        "                \"number\": 3,\n",
        "                \"name\": \"Wednesday\",\n",
        "                \"startTime\": \"2021-06-09T06:00:00-04:00\",\n",
        "                \"endTime\": \"2021-06-09T18:00:00-04:00\",\n",
        "                \"isDaytime\": True,\n",
        "                \"temperature\": 90,\n",
        "                \"temperatureUnit\": \"F\",\n",
        "                \"temperatureTrend\": None,\n",
        "                \"windSpeed\": \"1 to 6 mph\",\n",
        "                \"windDirection\": \"W\",\n",
        "                \"icon\": \"https://api.weather.gov/icons/land/day/tsra_sct,30/tsra_sct,60?size=medium\",\n",
        "                \"shortForecast\": \"Showers And Thunderstorms Likely\",\n",
        "                \"detailedForecast\": \"A slight chance of rain showers between 8am and 11am, then showers and thunderstorms likely. Mostly cloudy, with a high near 90. West wind 1 to 6 mph. Chance of precipitation is 60%. New rainfall amounts between a tenth and quarter of an inch possible.\"\n",
        "            },\n",
        "            {\n",
        "                \"number\": 4,\n",
        "                \"name\": \"Wednesday Night\",\n",
        "                \"startTime\": \"2021-06-09T18:00:00-04:00\",\n",
        "                \"endTime\": \"2021-06-10T06:00:00-04:00\",\n",
        "                \"isDaytime\": False,\n",
        "                \"temperature\": 71,\n",
        "                \"temperatureUnit\": \"F\",\n",
        "                \"temperatureTrend\": None,\n",
        "                \"windSpeed\": \"1 to 6 mph\",\n",
        "                \"windDirection\": \"W\",\n",
        "                \"icon\": \"https://api.weather.gov/icons/land/night/tsra_sct,60/tsra_sct,30?size=medium\",\n",
        "                \"shortForecast\": \"Showers And Thunderstorms Likely\",\n",
        "                \"detailedForecast\": \"Showers and thunderstorms likely before 2am, then a slight chance of showers and thunderstorms. Mostly cloudy, with a low around 71. West wind 1 to 6 mph. Chance of precipitation is 60%. New rainfall amounts between a tenth and quarter of an inch possible.\"\n",
        "            },\n",
        "            {\n",
        "                \"number\": 5,\n",
        "                \"name\": \"Thursday\",\n",
        "                \"startTime\": \"2021-06-10T06:00:00-04:00\",\n",
        "                \"endTime\": \"2021-06-10T18:00:00-04:00\",\n",
        "                \"isDaytime\": True,\n",
        "                \"temperature\": 89,\n",
        "                \"temperatureUnit\": \"F\",\n",
        "                \"temperatureTrend\": None,\n",
        "                \"windSpeed\": \"1 to 6 mph\",\n",
        "                \"windDirection\": \"NE\",\n",
        "                \"icon\": \"https://api.weather.gov/icons/land/day/tsra_hi,60/tsra_hi,80?size=medium\",\n",
        "                \"shortForecast\": \"Showers And Thunderstorms\",\n",
        "                \"detailedForecast\": \"Showers and thunderstorms. Partly sunny, with a high near 89. Northeast wind 1 to 6 mph. Chance of precipitation is 80%.\"\n",
        "            },\n",
        "            {\n",
        "                \"number\": 6,\n",
        "                \"name\": \"Thursday Night\",\n",
        "                \"startTime\": \"2021-06-10T18:00:00-04:00\",\n",
        "                \"endTime\": \"2021-06-11T06:00:00-04:00\",\n",
        "                \"isDaytime\": False,\n",
        "                \"temperature\": 70,\n",
        "                \"temperatureUnit\": \"F\",\n",
        "                \"temperatureTrend\": None,\n",
        "                \"windSpeed\": \"2 to 6 mph\",\n",
        "                \"windDirection\": \"E\",\n",
        "                \"icon\": \"https://api.weather.gov/icons/land/night/tsra,80?size=medium\",\n",
        "                \"shortForecast\": \"Showers And Thunderstorms\",\n",
        "                \"detailedForecast\": \"Showers and thunderstorms. Mostly cloudy, with a low around 70. Chance of precipitation is 80%.\"\n",
        "            },\n",
        "            {\n",
        "                \"number\": 7,\n",
        "                \"name\": \"Friday\",\n",
        "                \"startTime\": \"2021-06-11T06:00:00-04:00\",\n",
        "                \"endTime\": \"2021-06-11T18:00:00-04:00\",\n",
        "                \"isDaytime\": True,\n",
        "                \"temperature\": 76,\n",
        "                \"temperatureUnit\": \"F\",\n",
        "                \"temperatureTrend\": None,\n",
        "                \"windSpeed\": \"2 to 8 mph\",\n",
        "                \"windDirection\": \"E\",\n",
        "                \"icon\": \"https://api.weather.gov/icons/land/day/tsra,80?size=medium\",\n",
        "                \"shortForecast\": \"Showers And Thunderstorms\",\n",
        "                \"detailedForecast\": \"Showers and thunderstorms. Mostly cloudy, with a high near 76. Chance of precipitation is 80%.\"\n",
        "            },\n",
        "            {\n",
        "                \"number\": 8,\n",
        "                \"name\": \"Friday Night\",\n",
        "                \"startTime\": \"2021-06-11T18:00:00-04:00\",\n",
        "                \"endTime\": \"2021-06-12T06:00:00-04:00\",\n",
        "                \"isDaytime\": False,\n",
        "                \"temperature\": 64,\n",
        "                \"temperatureUnit\": \"F\",\n",
        "                \"temperatureTrend\": None,\n",
        "                \"windSpeed\": \"7 mph\",\n",
        "                \"windDirection\": \"NE\",\n",
        "                \"icon\": \"https://api.weather.gov/icons/land/night/tsra,80/tsra,70?size=medium\",\n",
        "                \"shortForecast\": \"Showers And Thunderstorms\",\n",
        "                \"detailedForecast\": \"Showers and thunderstorms. Mostly cloudy, with a low around 64. Chance of precipitation is 80%.\"\n",
        "            },\n",
        "            {\n",
        "                \"number\": 9,\n",
        "                \"name\": \"Saturday\",\n",
        "                \"startTime\": \"2021-06-12T06:00:00-04:00\",\n",
        "                \"endTime\": \"2021-06-12T18:00:00-04:00\",\n",
        "                \"isDaytime\": True,\n",
        "                \"temperature\": 79,\n",
        "                \"temperatureUnit\": \"F\",\n",
        "                \"temperatureTrend\": None,\n",
        "                \"windSpeed\": \"7 mph\",\n",
        "                \"windDirection\": \"NE\",\n",
        "                \"icon\": \"https://api.weather.gov/icons/land/day/rain_showers,50/tsra_sct,50?size=medium\",\n",
        "                \"shortForecast\": \"Chance Rain Showers\",\n",
        "                \"detailedForecast\": \"A chance of rain showers before 2pm, then a chance of showers and thunderstorms. Partly sunny, with a high near 79. Chance of precipitation is 50%.\"\n",
        "            },\n",
        "            {\n",
        "                \"number\": 10,\n",
        "                \"name\": \"Saturday Night\",\n",
        "                \"startTime\": \"2021-06-12T18:00:00-04:00\",\n",
        "                \"endTime\": \"2021-06-13T06:00:00-04:00\",\n",
        "                \"isDaytime\": False,\n",
        "                \"temperature\": 63,\n",
        "                \"temperatureUnit\": \"F\",\n",
        "                \"temperatureTrend\": None,\n",
        "                \"windSpeed\": \"2 to 7 mph\",\n",
        "                \"windDirection\": \"E\",\n",
        "                \"icon\": \"https://api.weather.gov/icons/land/night/tsra_hi,40/tsra_hi,30?size=medium\",\n",
        "                \"shortForecast\": \"Chance Showers And Thunderstorms\",\n",
        "                \"detailedForecast\": \"A chance of showers and thunderstorms. Partly cloudy, with a low around 63. Chance of precipitation is 40%.\"\n",
        "            },\n",
        "            {\n",
        "                \"number\": 11,\n",
        "                \"name\": \"Sunday\",\n",
        "                \"startTime\": \"2021-06-13T06:00:00-04:00\",\n",
        "                \"endTime\": \"2021-06-13T18:00:00-04:00\",\n",
        "                \"isDaytime\": True,\n",
        "                \"temperature\": 82,\n",
        "                \"temperatureUnit\": \"F\",\n",
        "                \"temperatureTrend\": None,\n",
        "                \"windSpeed\": \"2 to 8 mph\",\n",
        "                \"windDirection\": \"SE\",\n",
        "                \"icon\": \"https://api.weather.gov/icons/land/day/rain_showers,30/tsra_hi,30?size=medium\",\n",
        "                \"shortForecast\": \"Chance Rain Showers\",\n",
        "                \"detailedForecast\": \"A chance of rain showers before 2pm, then a chance of showers and thunderstorms. Mostly sunny, with a high near 82. Chance of precipitation is 30%.\"\n",
        "            },\n",
        "            {\n",
        "                \"number\": 12,\n",
        "                \"name\": \"Sunday Night\",\n",
        "                \"startTime\": \"2021-06-13T18:00:00-04:00\",\n",
        "                \"endTime\": \"2021-06-14T06:00:00-04:00\",\n",
        "                \"isDaytime\": False,\n",
        "                \"temperature\": 64,\n",
        "                \"temperatureUnit\": \"F\",\n",
        "                \"temperatureTrend\": None,\n",
        "                \"windSpeed\": \"2 to 8 mph\",\n",
        "                \"windDirection\": \"S\",\n",
        "                \"icon\": \"https://api.weather.gov/icons/land/night/tsra_hi,30/tsra_hi?size=medium\",\n",
        "                \"shortForecast\": \"Chance Showers And Thunderstorms then Slight Chance Showers And Thunderstorms\",\n",
        "                \"detailedForecast\": \"A chance of showers and thunderstorms before 8pm, then a slight chance of showers and thunderstorms. Partly cloudy, with a low around 64. Chance of precipitation is 30%.\"\n",
        "            },\n",
        "            {\n",
        "                \"number\": 13,\n",
        "                \"name\": \"Monday\",\n",
        "                \"startTime\": \"2021-06-14T06:00:00-04:00\",\n",
        "                \"endTime\": \"2021-06-14T18:00:00-04:00\",\n",
        "                \"isDaytime\": True,\n",
        "                \"temperature\": 84,\n",
        "                \"temperatureUnit\": \"F\",\n",
        "                \"temperatureTrend\": None,\n",
        "                \"windSpeed\": \"2 to 6 mph\",\n",
        "                \"windDirection\": \"W\",\n",
        "                \"icon\": \"https://api.weather.gov/icons/land/day/rain_showers/tsra_hi?size=medium\",\n",
        "                \"shortForecast\": \"Slight Chance Rain Showers then Slight Chance Showers And Thunderstorms\",\n",
        "                \"detailedForecast\": \"A slight chance of rain showers before 2pm, then a slight chance of showers and thunderstorms. Mostly sunny, with a high near 84.\"\n",
        "            },\n",
        "            {\n",
        "                \"number\": 14,\n",
        "                \"name\": \"Monday Night\",\n",
        "                \"startTime\": \"2021-06-14T18:00:00-04:00\",\n",
        "                \"endTime\": \"2021-06-15T06:00:00-04:00\",\n",
        "                \"isDaytime\": False,\n",
        "                \"temperature\": 64,\n",
        "                \"temperatureUnit\": \"F\",\n",
        "                \"temperatureTrend\": None,\n",
        "                \"windSpeed\": \"2 to 6 mph\",\n",
        "                \"windDirection\": \"W\",\n",
        "                \"icon\": \"https://api.weather.gov/icons/land/night/tsra_hi?size=medium\",\n",
        "                \"shortForecast\": \"Chance Showers And Thunderstorms\",\n",
        "                \"detailedForecast\": \"A chance of showers and thunderstorms. Partly cloudy, with a low around 64.\"\n",
        "            }\n",
        "        ]\n",
        "    }\n",
        "}\n"
      ],
      "execution_count": null,
      "outputs": []
    },
    {
      "cell_type": "code",
      "metadata": {
        "id": "eaVQcTF36sTV"
      },
      "source": [
        "print(\"------------------\")\n",
        "print(\"PROCESSING WEATHER DATA...\")\n",
        "print(\"------------------\")\n",
        "\n",
        "# todo: write some python here\n",
        "print(weather_data.keys())\n",
        "print(weather_data[\"properties\"].keys())\n",
        "print(type(weather_data[\"properties\"][\"periods\"][0]))\n",
        "# A).\n",
        "n = 0\n",
        "for day in weather_data[\"properties\"][\"periods\"][n]:\n",
        "  if \"Night\" not in weather_data[\"properties\"][\"periods\"][n][\"name\"]:\n",
        "    print(\"The weather on\", weather_data[\"properties\"][\"periods\"][n][\"name\"],\":\",weather_data[\"properties\"][\"periods\"][n][\"shortForecast\"])\n",
        "  n = n + 1"
      ],
      "execution_count": null,
      "outputs": []
    }
  ]
}