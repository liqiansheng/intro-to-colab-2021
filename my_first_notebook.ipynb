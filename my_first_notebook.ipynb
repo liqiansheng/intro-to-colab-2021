{
  "nbformat": 4,
  "nbformat_minor": 0,
  "metadata": {
    "colab": {
      "name": "my first notebook",
      "provenance": [],
      "authorship_tag": "ABX9TyPCWL/VqjzAm1BX3JrvPv6l",
      "include_colab_link": true
    },
    "kernelspec": {
      "name": "python3",
      "display_name": "Python 3"
    },
    "language_info": {
      "name": "python"
    }
  },
  "cells": [
    {
      "cell_type": "markdown",
      "metadata": {
        "id": "view-in-github",
        "colab_type": "text"
      },
      "source": [
        "<a href=\"https://colab.research.google.com/github/liqiansheng/intro-to-colab-2021/blob/main/my_first_notebook.ipynb\" target=\"_parent\"><img src=\"https://colab.research.google.com/assets/colab-badge.svg\" alt=\"Open In Colab\"/></a>"
      ]
    },
    {
      "cell_type": "code",
      "metadata": {
        "id": "JgKGQo333sgn"
      },
      "source": [
        "# My First Notebook!\n",
        "\n",
        "This is a text cell. It uses the markdown language. The line above is a heading, starting with the # sign. Don't be confused that # means something different in .md and .py files.\n",
        "\n",
        "We can make links like [this](https://github.com/prof-rossetti/intro-to-python).\n",
        "\n",
        "And lists too:\n",
        "\n",
        "  + Item 1\n",
        "  + Item 2\n",
        "  + Item 3\n",
        "\n",
        "For more information about Markdown syntax, see the [Markdown Guide](https://guides.github.com/pdfs/markdown-cheatsheet-online.pdf).\n"
      ],
      "execution_count": null,
      "outputs": []
    },
    {
      "cell_type": "code",
      "metadata": {
        "colab": {
          "base_uri": "https://localhost:8080/"
        },
        "id": "6tHRkooW8cwa",
        "outputId": "4249fab4-a18d-4f93-f91b-04f7e5aa03c6"
      },
      "source": [
        "# This is some example python code\n",
        "# These lines starting with # are \"comments\"\n",
        "# Don't be confused that # means something different in .md files than .py files\n",
        "\n",
        "print(\"HELLO WORLD!\")\n",
        "\n",
        "x = 2 + 2\n",
        "print(x)\n"
      ],
      "execution_count": 2,
      "outputs": [
        {
          "output_type": "stream",
          "text": [
            "HELLO WORLD!\n",
            "4\n"
          ],
          "name": "stdout"
        }
      ]
    }
  ]
}